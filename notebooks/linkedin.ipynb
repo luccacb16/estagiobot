{
 "cells": [
  {
   "cell_type": "code",
   "execution_count": 116,
   "metadata": {},
   "outputs": [
    {
     "data": {
      "text/plain": [
       "True"
      ]
     },
     "execution_count": 116,
     "metadata": {},
     "output_type": "execute_result"
    }
   ],
   "source": [
    "from selenium import webdriver\n",
    "from selenium.webdriver.common.by import By\n",
    "from selenium.webdriver.chrome.service import Service\n",
    "from selenium.webdriver.chrome.options import Options\n",
    "from webdriver_manager.chrome import ChromeDriverManager\n",
    "from selenium.webdriver.support.ui import WebDriverWait\n",
    "from selenium.webdriver.support import expected_conditions as EC\n",
    "from bs4 import BeautifulSoup\n",
    "\n",
    "import requests\n",
    "import pandas as pd\n",
    "import numpy as np\n",
    "import json\n",
    "import time\n",
    "import re\n",
    "\n",
    "from dotenv import load_dotenv\n",
    "import os\n",
    "\n",
    "load_dotenv()"
   ]
  },
  {
   "cell_type": "code",
   "execution_count": 117,
   "metadata": {},
   "outputs": [],
   "source": [
    "# Função que substitui multiplas quebras de linha por uma única\n",
    "def remove_multiple_breaks(text):\n",
    "    return re.sub(r'\\n+', '\\n', text)\n",
    "\n",
    "# Função que remove espaços em branco no início e no final de uma string\n",
    "def remove_whitespace(text):\n",
    "    return re.sub(r'^\\s+|\\s+$', '', text)\n",
    "\n",
    "# Função que remove múltiplos espaços em branco\n",
    "def remove_multiple_spaces(text):\n",
    "    return re.sub(r'\\s+', ' ', text)\n",
    "\n",
    "# Função que substitui as quebras de linha por espaços em branco\n",
    "def remove_breaks(text):\n",
    "    return re.sub(r'\\n', ' ', text)\n",
    "\n",
    "# Função que remove \"About the job\" e \"See less\"\n",
    "def clean_description(text):\n",
    "    return re.sub(r'About the job|See less', '', text)\n",
    "\n",
    "# Função que limpa o link da vaga para seguir a formatação https://www.linkedin.com/jobs/view/id/\n",
    "def clean_link(url):\n",
    "    return '/'.join(url.split('/')[:6]) + '/'"
   ]
  },
  {
   "cell_type": "code",
   "execution_count": 118,
   "metadata": {},
   "outputs": [
    {
     "name": "stdout",
     "output_type": "stream",
     "text": [
      "Título da vaga: Estágio em Desenvolvimento de Software\n",
      "Empresa: Nomus\n",
      "Local: Brasil\n",
      "Data de postagem: há 2 meses\n",
      "Número de aplicantes: Mais de 100 candidaturas\n",
      "\n",
      "Modalidade: Remoto\n",
      "Nível de experiência: Tempo\n",
      "\n",
      "Número de funcionários: 51-200 funcionários\n",
      "Área da empresa: Atividades dos serviços de tecnologia da informação\n",
      "Descrição da vaga: Sobre a vaga A área de “Desenvolvimento” é responsável pelo desenvolvimento de softwares de gestão incríveis.Seus principais objetivos são desenvolver soluções que geram resultado para nossos clientes, com velocidade, qualidade e facilidade de uso.Como estagiário em Desenvolvimento você trabalhará em conjunto com nosso time desenvolvendo novas funcionalidades nos softwares de gestão da Nomus.Essa é uma oportunidade incrível de aprendizado, você irá aprender muito sobre Java, Javascript, struts, Spring, hibernate, jQuery e css, e conseguirá enxergar os resultados do seu trabalho na prática.O valor da bolsa inicial para a carga horária de 30 horas por semana é de R$ 1.800,00 a R$ 3.600,00 conforme experiência anterior.Durante o período de estágio você pode progredir entre os níveis 1 a 6 conforme avaliação de desempenho trimestral, e quando subir de nível, você ganha um aumento na bolsa de estágio.Como estagiário na Nomus você será preparado para ser efetivado como Desenvolvedor da Nomus no prazo mais curto possível, respeitando o tempo necessário para o seu desenvolvimento acadêmico e mantendo o equilíbrio na sua vida pessoal.Ao ser efetivado como Desenvolvedor da Nomus, você progride em um plano de carreira com níveis de Júnior, Pleno, Sênior e Master.A progressão na carreira como Desenvolvedor depende da avaliação de desempenho trimestral e ao subir de nível, você ganha um aumento na remuneração fixa e assume cada vez mais desafios.Responsabilidades e atribuiçõesQual será seu papel na Nomus?O seu papel na Nomus será: Desenvolver novas funcionalidades previstas no roadmap do produto utilizando Java, Javascript, Struts, Spring, Hibernate, jQuery e CSS.Fazer testes unitários utilizando JunitResolver ajustes.Apoiar as equipes de suporte e implantação com questões relacionadas ao desenvolvimento. Requisitos e qualificaçõesQual é o perfil desejado pela Nomus?Estamos buscando uma pessoa: Cursando graduação em Sistemas de Informação, Ciência da Computação, Informática, Análise de Sistemas ou áreas afins a partir do 3º período.Que tenha disponibilidade para estagiar 30 horas por semana com horário flexível.Com iniciativa, vontade de aprender e comprometimento.Que tenha conhecimento de inglês no mínimo intermediário para leitura e escrita.Aceitamos candidatos de todo o Brasil. Candidatos com residência no Rio de Janeiro terão regime híbrido. Candidatos com residência fora do Rio de Janeiro terão regime de trabalho home-office de forma permanente. Informações adicionaisE quais são as vantagens de fazer parte da equipe da Nomus? ⭐Seguro de vida em grupo.🍽️Cartão flexível Caju: você escolhe se vai usar em mercados ou restaurantes!👨‍⚕️Plano de saúde🦷Plano odontológico💻Auxílio home-office📚Auxílio educação💰Bônus semestral alinhado com a avaliação de desempenho e resultado da Nomus🎯Plano de carreira⏰Horário flexível🏠Home-office💻Equipamentos fornecidos pela empresa💪🏻Gympass🎉Day off👶Licença maternidade e paternidade estendida 👨🏻‍💻Auxílio-coworking🎒Auxílio-creche para filhos Ver menos\n"
     ]
    }
   ],
   "source": [
    "job_url = input('Link da vaga: ')\n",
    "\n",
    "options = Options()\n",
    "#options.add_argument(\"--headless\")\n",
    "options.add_argument(\"--no-sandbox\")\n",
    "options.add_argument(\"--disable-dev-shm-usage\")\n",
    "\n",
    "service = Service(ChromeDriverManager().install())\n",
    "driver = webdriver.Chrome(service=service, options=options)\n",
    "\n",
    "driver.get('https://www.linkedin.com/login')\n",
    "\n",
    "email = os.getenv('LINKEDIN_EMAIL')\n",
    "password = os.getenv('LINKEDIN_PASSWORD')\n",
    "\n",
    "driver.find_element(By.ID, 'username').send_keys(email)\n",
    "driver.find_element(By.ID, 'password').send_keys(password)\n",
    "driver.find_element(By.CSS_SELECTOR, '.login__form_action_container button').click()\n",
    "\n",
    "#job_url = 'https://www.linkedin.com/jobs/view/3902888840/'\n",
    "#job_url = 'https://www.linkedin.com/jobs/view/3878872267/' # inChurch\n",
    "driver.get(job_url)\n",
    "\n",
    "# ---------------------------------------------------------------------------------------------------------------------------------------\n",
    "\n",
    "see_more_button_id = 'ember41'\n",
    "see_more_button = driver.find_element(By.ID, see_more_button_id).click()\n",
    "\n",
    "# Scraper\n",
    "soup = BeautifulSoup(driver.page_source, 'html.parser')\n",
    "\n",
    "# Título da vaga\n",
    "titulo = soup.find('h1', {'class': 't-24 t-bold job-details-jobs-unified-top-card__job-title'}).text.strip() if soup.find('h1', {'class': 't-24 t-bold job-details-jobs-unified-top-card__job-title'}) else 'Not found'\n",
    "\n",
    "time.sleep(1)\n",
    "\n",
    "# Nome da empresa, Local, Data de postagem, Número de aplicantes\n",
    "infos = soup.find('div', {'class': 'job-details-jobs-unified-top-card__primary-description-without-tagline mb2'}).text.strip() if soup.find('div', {'class': 'job-details-jobs-unified-top-card__primary-description-without-tagline mb2'}) else 'Not found'\n",
    "if infos != 'Not found':\n",
    "    empresa, local, data_postagem, num_aplicantes = infos.split(' · ')\n",
    "else:\n",
    "    empresa = local = data_postagem = num_aplicantes = 'Not found'\n",
    "\n",
    "# Modalidade de contratação, Nível de experiência\n",
    "infos2 = soup.find('li', {'class': 'job-details-jobs-unified-top-card__job-insight job-details-jobs-unified-top-card__job-insight--highlight'}).text.strip() if soup.find('li', {'class': 'job-details-jobs-unified-top-card__job-insight job-details-jobs-unified-top-card__job-insight--highlight'}) else 'Not found'\n",
    "if infos2 != 'Not found':\n",
    "    modalidade, nivel = remove_multiple_spaces(remove_multiple_breaks(infos2)).split(' ')[:2]\n",
    "else:\n",
    "    modalidade = nivel = 'Not found'\n",
    "\n",
    "# Número de funcionários, Área da empresa\n",
    "infos3 = soup.find_all('li', {'class': 'job-details-jobs-unified-top-card__job-insight'})\n",
    "if len(infos3) > 1 and infos3[1].text.strip() != 'Not found':\n",
    "    infos3 = infos3[1].text.strip()\n",
    "    if ' · ' in infos3:\n",
    "        num_funcionarios, area = infos3.split(' · ')\n",
    "    else:\n",
    "        num_funcionarios = infos3\n",
    "else:\n",
    "    num_funcionarios = area = 'Not found'\n",
    "\n",
    "# Descrição da vaga\n",
    "descricao = soup.find_all('div', {'class': 'mt4'})\n",
    "if len(descricao) > 1 and descricao[1].text.strip() != 'Not found':\n",
    "    descricao = descricao[1].text.strip()\n",
    "    descricao = remove_multiple_breaks(descricao)\n",
    "    descricao = remove_multiple_spaces(descricao)\n",
    "    descricao = clean_description(descricao)\n",
    "else:\n",
    "    descricao = 'Not found'\n",
    "\n",
    "driver.quit()\n",
    "\n",
    "# Printar as informações\n",
    "print(f'Título da vaga: {titulo}')\n",
    "\n",
    "print(f'Empresa: {empresa}')\n",
    "print(f'Local: {local}')\n",
    "print(f'Data de postagem: {data_postagem}')\n",
    "print(f'Número de aplicantes: {num_aplicantes}')\n",
    "\n",
    "print()\n",
    "\n",
    "print(f'Modalidade: {modalidade}')\n",
    "print(f'Nível de experiência: {nivel}')\n",
    "\n",
    "print()\n",
    "\n",
    "print(f'Número de funcionários: {num_funcionarios}')\n",
    "print(f'Área da empresa: {area}')\n",
    "print(f'Descrição da vaga: {descricao}')\n"
   ]
  },
  {
   "cell_type": "code",
   "execution_count": 119,
   "metadata": {},
   "outputs": [],
   "source": [
    "AWAN_API_KEY = os.getenv('AWAN_API_KEY')\n",
    "OPENAI_API_KEY = os.getenv('OPENAI_API_KEY')\n",
    "\n",
    "AWAN_URL = 'https://api.awanllm.com/v1/chat/completions'"
   ]
  },
  {
   "cell_type": "code",
   "execution_count": 120,
   "metadata": {},
   "outputs": [
    {
     "name": "stdout",
     "output_type": "stream",
     "text": [
      "Aproximadamente 419 tokens\n"
     ]
    }
   ],
   "source": [
    "print(f'Aproximadamente {len(descricao.split(\" \"))} tokens')"
   ]
  },
  {
   "cell_type": "code",
   "execution_count": 121,
   "metadata": {},
   "outputs": [],
   "source": [
    "prompt = f'''Dada a descrição de uma vaga: {descricao}\n",
    "\n",
    "Preencha esses campos:\n",
    "\n",
    "(Sua resposta deve incluir apenas e somente o que foi pedido, seguindo a exata formatação dos campos)\n",
    "\n",
    "*Data de formação*:\n",
    "*Salário/Bolsa-Auxílio/Bolsa-Estágio*:\n",
    "*Benefícios*: (Cada benefício deve estar em um bullet point)\n",
    "\t- \n",
    "\t- \n",
    "\t- \n",
    " \n",
    "Caso não haja informação sobre quando deve ser o período de formação, salário ou benefícios, preencha somente com N/A.\n",
    "Não incluir trabalho remoto/home office nem salário/bolsa estágio/bolsa auxílio como benefício. \n",
    "Responda em português brasileiro.\n",
    "'''"
   ]
  },
  {
   "cell_type": "code",
   "execution_count": 122,
   "metadata": {},
   "outputs": [],
   "source": [
    "prompt2 = f'''Preencha os campos abaixo (seguindo a formatação exata) de acordo com a descrição da vaga fornecida: {descricao}\n",
    "\n",
    "*Data de formação*:\n",
    "*Salário/Bolsa*:\n",
    "\n",
    "*Benefícios*:\n",
    "    - \n",
    "    - \n",
    "    - \n",
    "\n",
    "Respeite os campos e não inclua informações que não foram solicitadas.\n",
    "Caso não haja informação sobre algum campo, preencha com N/A. Não inclua trabalho remoto ou salário/bolsa como benefícios. \n",
    "'''"
   ]
  },
  {
   "cell_type": "code",
   "execution_count": 123,
   "metadata": {},
   "outputs": [],
   "source": [
    "payload = json.dumps({\n",
    "    \"model\": \"Meta-Llama-3-8B-Instruct-Dolfin-v0.1\",\n",
    "    \"messages\": [\n",
    "        {\n",
    "            \"role\": \"user\",\n",
    "            \"content\": prompt2\n",
    "        }\n",
    "    ]\n",
    "})\n",
    "\n",
    "headers = {\n",
    "    'Content-Type': 'application/json',\n",
    "    'Authorization': f\"Bearer {AWAN_API_KEY}\"\n",
    "}"
   ]
  },
  {
   "cell_type": "code",
   "execution_count": 124,
   "metadata": {},
   "outputs": [],
   "source": [
    "response = requests.request('POST', AWAN_URL, headers=headers, data=payload)"
   ]
  },
  {
   "cell_type": "code",
   "execution_count": 125,
   "metadata": {},
   "outputs": [
    {
     "data": {
      "text/plain": [
       "{'id': 'cmpl-e7794abc30bb480484378bf2a66f33cb',\n",
       " 'object': 'chat.completion',\n",
       " 'created': 161866,\n",
       " 'model': 'Meta-Llama-3-8B-Instruct-Dolfin',\n",
       " 'choices': [{'index': 0,\n",
       "   'message': {'role': 'assistant',\n",
       "    'content': '*Data de formação*: N/A\\n*Salário/Bolsa*: R$ 1.800,00 a R$ 3.600,00\\n*Benefícios*:\\n    - Seguro de vida em grupo\\n    - Cartão flexível Caju\\n    - Plano de saúde\\n    - Plano odontológico\\n    - Auxílio home-office\\n    - Auxílio educação\\n    - Bônus semestral alinhado com a avaliação de desempenho e resultado da Nomus\\n    - Plano de carreira\\n    - Horário flexível\\n    - Home-office\\n    - Equipamentos fornecidos pela empresa\\n    - Gympass\\n    - Day off\\n    - Licença maternidade e paternidade estendida\\n    - Auxílio-coworking\\n    - Auxílio-creche para filhos'},\n",
       "   'logprobs': None,\n",
       "   'finish_reason': 'stop'}],\n",
       " 'usage': {'prompt_tokens': 963,\n",
       "  'total_tokens': 1157,\n",
       "  'completion_tokens': 194}}"
      ]
     },
     "execution_count": 125,
     "metadata": {},
     "output_type": "execute_result"
    }
   ],
   "source": [
    "response.json()"
   ]
  },
  {
   "cell_type": "code",
   "execution_count": 126,
   "metadata": {},
   "outputs": [
    {
     "name": "stdout",
     "output_type": "stream",
     "text": [
      "*Data de formação*: N/A\n",
      "*Salário/Bolsa*: R$ 1.800,00 a R$ 3.600,00\n",
      "*Benefícios*:\n",
      "    - Seguro de vida em grupo\n",
      "    - Cartão flexível Caju\n",
      "    - Plano de saúde\n",
      "    - Plano odontológico\n",
      "    - Auxílio home-office\n",
      "    - Auxílio educação\n",
      "    - Bônus semestral alinhado com a avaliação de desempenho e resultado da Nomus\n",
      "    - Plano de carreira\n",
      "    - Horário flexível\n",
      "    - Home-office\n",
      "    - Equipamentos fornecidos pela empresa\n",
      "    - Gympass\n",
      "    - Day off\n",
      "    - Licença maternidade e paternidade estendida\n",
      "    - Auxílio-coworking\n",
      "    - Auxílio-creche para filhos\n"
     ]
    }
   ],
   "source": [
    "print(response.json()['choices'][0]['message']['content'])"
   ]
  },
  {
   "cell_type": "code",
   "execution_count": 127,
   "metadata": {},
   "outputs": [],
   "source": [
    "descricao_llm = response.json()['choices'][0]['message']['content']"
   ]
  },
  {
   "cell_type": "code",
   "execution_count": 128,
   "metadata": {},
   "outputs": [],
   "source": [
    "msg = f'''*[{modalidade}] {titulo}*\n",
    "_*{empresa}* - {local} - {num_funcionarios}_\n",
    "\n",
    "{descricao_llm}\n",
    "\n",
    "*Postado*: {data_postagem} \n",
    "*Aplicantes*: {num_aplicantes}\n",
    "\n",
    "*Link da vaga*: {clean_link(job_url)}\n",
    "'''"
   ]
  },
  {
   "cell_type": "code",
   "execution_count": 129,
   "metadata": {},
   "outputs": [
    {
     "name": "stdout",
     "output_type": "stream",
     "text": [
      "*[Remoto] Estágio em Desenvolvimento de Software*\n",
      "_*Nomus* - Brasil - 51-200 funcionários_\n",
      "\n",
      "*Data de formação*: N/A\n",
      "*Salário/Bolsa*: R$ 1.800,00 a R$ 3.600,00\n",
      "*Benefícios*:\n",
      "    - Seguro de vida em grupo\n",
      "    - Cartão flexível Caju\n",
      "    - Plano de saúde\n",
      "    - Plano odontológico\n",
      "    - Auxílio home-office\n",
      "    - Auxílio educação\n",
      "    - Bônus semestral alinhado com a avaliação de desempenho e resultado da Nomus\n",
      "    - Plano de carreira\n",
      "    - Horário flexível\n",
      "    - Home-office\n",
      "    - Equipamentos fornecidos pela empresa\n",
      "    - Gympass\n",
      "    - Day off\n",
      "    - Licença maternidade e paternidade estendida\n",
      "    - Auxílio-coworking\n",
      "    - Auxílio-creche para filhos\n",
      "\n",
      "*Postado*: há 2 meses \n",
      "*Aplicantes*: Mais de 100 candidaturas\n",
      "\n",
      "*Link da vaga*: https://www.linkedin.com/jobs/view/3824128427/\n",
      "\n"
     ]
    }
   ],
   "source": [
    "print(msg)"
   ]
  },
  {
   "cell_type": "code",
   "execution_count": 130,
   "metadata": {},
   "outputs": [
    {
     "name": "stdout",
     "output_type": "stream",
     "text": [
      "SMe025e40e775f2c01ff2789a23f977568\n"
     ]
    }
   ],
   "source": [
    "from twilio.rest import Client\n",
    "from twilio.twiml.messaging_response import MessagingResponse\n",
    "from flask import Flask, request\n",
    "\n",
    "account_sid = os.getenv('TWILIO_ACCOUNT_SID')\n",
    "auth_token = os.getenv('TWILIO_AUTH_TOKEN')\n",
    "client = Client(account_sid, auth_token)\n",
    "\n",
    "# app = Flask(__name__)\n",
    "\n",
    "# @app.route(\"/webhook\", methods=[\"POST\"])\n",
    "# def webhook():\n",
    "#     # Captura a mensagem recebida\n",
    "#     incoming_message = request.values.get(\"Body\", \"\").lower()\n",
    "#     # Neste exemplo, apenas exibimos a mensagem recebida\n",
    "#     print(\"Mensagem recebida:\", incoming_message)\n",
    "    \n",
    "#     # Responde à mensagem\n",
    "#     response = MessagingResponse()\n",
    "#     response.message(\"Obrigado por sua mensagem! Estamos processando.\")\n",
    "    \n",
    "#     return str(response)\n",
    "\n",
    "# Enviar mensagem do sandbox para +5512996039511\n",
    "message = client.messages.create(\n",
    "    body=msg,\n",
    "    from_='whatsapp:+14155238886',\n",
    "    to='whatsapp:+5512996039511'\n",
    ")\n",
    "\n",
    "print(message.sid)"
   ]
  }
 ],
 "metadata": {
  "kernelspec": {
   "display_name": "Python 3",
   "language": "python",
   "name": "python3"
  },
  "language_info": {
   "codemirror_mode": {
    "name": "ipython",
    "version": 3
   },
   "file_extension": ".py",
   "mimetype": "text/x-python",
   "name": "python",
   "nbconvert_exporter": "python",
   "pygments_lexer": "ipython3",
   "version": "3.10.12"
  }
 },
 "nbformat": 4,
 "nbformat_minor": 2
}
